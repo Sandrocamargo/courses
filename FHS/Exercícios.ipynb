{
  "nbformat": 4,
  "nbformat_minor": 0,
  "metadata": {
    "colab": {
      "provenance": []
    },
    "kernelspec": {
      "name": "python3",
      "display_name": "Python 3"
    },
    "language_info": {
      "name": "python"
    }
  },
  "cells": [
    {
      "cell_type": "markdown",
      "source": [
        "# Curso de Engenharia de Computação\n",
        "# Disciplina de Fundamentos de Hardware e Software\n",
        "# Professor: Sandro Camargo\n",
        "**sandrocamargo@unipampa.edu.br**\n",
        "\n",
        "# Exercícios de Python\n",
        "\n",
        "Desenvolva programas em python para resolver os seguintes problemas.\n",
        "\n",
        "Para abrir este notebook no seu google colab, [clique aqui](http://colab.research.google.com/github/Sandrocamargo/courses/blob/main/FHS/Exerc%C3%ADcios.ipynb)."
      ],
      "metadata": {
        "id": "piRean9hDHbz"
      }
    },
    {
      "cell_type": "markdown",
      "source": [
        "## Exercício 1: Tabuada do número\n",
        "\n",
        "*   Solicite um número ao usuário e exiba sua tabuada de 1 a 10.\n",
        "*   Habilidades: entrada de dados, laços, multiplicação."
      ],
      "metadata": {
        "id": "pduOvtZNDSwB"
      }
    },
    {
      "cell_type": "code",
      "execution_count": null,
      "metadata": {
        "id": "LACI5Dv5DD9R"
      },
      "outputs": [],
      "source": [
        "# Coloque aqui seu código"
      ]
    },
    {
      "cell_type": "markdown",
      "source": [
        "## Exercício 2: Conversor de temperatura\n",
        "*   Converta uma temperatura de Celsius para Fahrenheit e vice-versa.\n",
        "*   Fórmula: (0 °C ×$\\frac{9}{5}$) + 32 = 32 °F\n",
        "*   Habilidades: entrada/saída, operadores matemáticos."
      ],
      "metadata": {
        "id": "RbACKyD3DcCn"
      }
    },
    {
      "cell_type": "code",
      "source": [
        "# Coloque aqui seu código"
      ],
      "metadata": {
        "id": "07CAe0VBEOkE"
      },
      "execution_count": null,
      "outputs": []
    },
    {
      "cell_type": "markdown",
      "source": [
        "## Exercício 3: Verificador de número primo (simples)\n",
        "*   Peça um número ao usuário e informe se ele é primo.\n",
        "*   Habilidades: divisões, laço for, if."
      ],
      "metadata": {
        "id": "LaPiUMFQEQWz"
      }
    },
    {
      "cell_type": "code",
      "source": [
        "# Coloque aqui seu código"
      ],
      "metadata": {
        "id": "2_NHlYPxEejw"
      },
      "execution_count": null,
      "outputs": []
    },
    {
      "cell_type": "markdown",
      "source": [
        "## Exercício 4: n-ésimo termo de uma PA\n",
        "*   Em uma progressão aritmética, peça ao usuário: o primeiro termo, a diferença entre os termos, e qual termo o usuário deseja saber.\n",
        "*   Habilidades: entrada/saída, laço."
      ],
      "metadata": {
        "id": "XDGBSk9UEgCN"
      }
    },
    {
      "cell_type": "code",
      "source": [
        "# Coloque aqui seu código"
      ],
      "metadata": {
        "id": "P6xyOqqdFGEq"
      },
      "execution_count": null,
      "outputs": []
    },
    {
      "cell_type": "markdown",
      "source": [
        "## Exercício 5: Conversão de bases numéricas\n",
        "*   Receba um número e mostre seu valor em binário, octal e hexadecimal.\n",
        "*   Habilidades: entrada/saída."
      ],
      "metadata": {
        "id": "gg-sRCu0J7_y"
      }
    },
    {
      "cell_type": "code",
      "source": [
        "# Coloque aqui seu código"
      ],
      "metadata": {
        "id": "UdDYhpwMJ7AN"
      },
      "execution_count": null,
      "outputs": []
    },
    {
      "cell_type": "markdown",
      "source": [
        "## Exercício 6: Caixa eletrônico simplificado\n",
        "*   Simule um caixa eletrônico que recebe um valor e retorna o número de cédulas (R$100, R$50, R$20, R$10, R$5, R$2, R$1).\n",
        "*   Habilidades: entrada de dados, divisão inteira, while ou for, lógica de algoritmos."
      ],
      "metadata": {
        "id": "oVTPRNfuFE7z"
      }
    },
    {
      "cell_type": "code",
      "source": [
        "# Coloque aqui seu código"
      ],
      "metadata": {
        "id": "u5WfvAraF8lf"
      },
      "execution_count": null,
      "outputs": []
    },
    {
      "cell_type": "markdown",
      "source": [
        "## Exercício 7: Números primos até ∞\n",
        "*   Receba um número qualquer e mostre todos os primos até este número.\n",
        "*   Habilidades: entrada de dados, divisão inteira, while ou for, lógica de algoritmos."
      ],
      "metadata": {
        "id": "TaLyotfwF-Vm"
      }
    },
    {
      "cell_type": "code",
      "source": [
        "# Coloque aqui seu código"
      ],
      "metadata": {
        "id": "_UfqolrJGovL"
      },
      "execution_count": null,
      "outputs": []
    },
    {
      "cell_type": "markdown",
      "source": [
        "## Exercício 8: Série de Fibonacci\n",
        "*   Em uma série de fibonatti, peça ao usuário qual termo o usuário deseja saber.\n",
        "*   Habilidades: entrada/saída, laço."
      ],
      "metadata": {
        "id": "Bh7cOt5dGqi_"
      }
    },
    {
      "cell_type": "code",
      "source": [
        "# Coloque aqui seu código"
      ],
      "metadata": {
        "id": "qiPj1Fr3IknU"
      },
      "execution_count": null,
      "outputs": []
    },
    {
      "cell_type": "markdown",
      "source": [
        "## Exercício 9: Números romanos\n",
        "*   Receba um número qualquer e o mostre em números romanos.\n",
        "*   Habilidades: entrada de dados, divisão inteira, while ou for, lógica de algoritmos.\n",
        "\n",
        "Decimal\tRomano\n",
        "\n",
        "1000\tM\n",
        "\n",
        "900\tCM\n",
        "\n",
        "500\tD\n",
        "\n",
        "400\tCD\n",
        "\n",
        "100\tC\n",
        "\n",
        "90\tXC\n",
        "\n",
        "50\tL\n",
        "\n",
        "40\tXL\n",
        "\n",
        "10\tX\n",
        "\n",
        "9\tIX\n",
        "\n",
        "5\tV\n",
        "\n",
        "4\tIV\n",
        "\n",
        "1\tI"
      ],
      "metadata": {
        "id": "3d5NY8IBIm67"
      }
    },
    {
      "cell_type": "code",
      "source": [
        "# Coloque aqui seu código"
      ],
      "metadata": {
        "id": "GqbmQZX6Jrbs"
      },
      "execution_count": null,
      "outputs": []
    },
    {
      "cell_type": "markdown",
      "source": [
        "## Exercício 10: Formatar CPF\n",
        "*   Receba um número de CPF qualquer e mostre o CPF formatado.\n",
        "*   Entrada 12345678910. Saída 123.456.789-10\n",
        "*   Habilidades: entrada de dados, lógica de algoritmos, manipulação de strings."
      ],
      "metadata": {
        "id": "a7x1sr3YTNtV"
      }
    },
    {
      "cell_type": "code",
      "source": [
        "# Coloque aqui seu código"
      ],
      "metadata": {
        "id": "YYQDnUTXTgj9"
      },
      "execution_count": null,
      "outputs": []
    }
  ]
}