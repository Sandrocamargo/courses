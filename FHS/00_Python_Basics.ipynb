{
  "nbformat": 4,
  "nbformat_minor": 0,
  "metadata": {
    "colab": {
      "provenance": []
    },
    "kernelspec": {
      "name": "python3",
      "display_name": "Python 3"
    }
  },
  "cells": [
    {
      "cell_type": "markdown",
      "metadata": {
        "id": "ow8Frl0avFP4"
      },
      "source": [
        "# Curso de Engenharia de Computação\n",
        "# Disciplina de Fundamentos de Hardware e Software\n",
        "# Professor: Sandro Camargo\n",
        "**sandrocamargo@unipampa.edu.br**\n",
        "\n",
        "# Fundamentos de Python\n",
        "\n",
        "Este notebook tem como objetivo revisar os conteúdos da disciplina de fundamentos de hardware e software, e apresentar as implementações dos conceitos na linguagem Python.\n",
        "\n",
        "Para abrir este notebook no seu google colab, [clique aqui](http://colab.research.google.com/github/Sandrocamargo/courses/blob/main/FHS/00_Python_Basics.ipynb)."
      ]
    },
    {
      "cell_type": "markdown",
      "metadata": {
        "id": "QFEbAnVYtZU4"
      },
      "source": [
        "#**Tipos de Dados**\n",
        "\n",
        "Os tipos básicos de dados em Python são: Tipos integrais, Tipos Ponto-Flutuante e String.\n",
        "\n",
        "Tipos Integrais:\n",
        "Inteiro (Int): O padrão é em base decimal, mas é possível usar bases binária (0b), base octal (0o) e Hexadecimal (0x).\n",
        "Booleano (Bool): 0=False, 1=True"
      ]
    },
    {
      "cell_type": "code",
      "metadata": {
        "id": "YgWOhR67tWfB"
      },
      "source": [
        "# Criando uma variável inteira\n",
        "x = 10 #atribuindo um valor decimal\n",
        "print(\"Inteiro:\", x)\n",
        "y = 123456789012345678901234567890123456789012345678901234567890123456789012345678901234567890\n",
        "print(\"Inteiro grande:\", y, \"bem grande\")\n",
        "\n",
        "x = 0b1011 #atribuindo um valor binário\n",
        "print(\"Binário:\", x)\n",
        "print(\"Binário:\", bin(x))\n",
        "\n",
        "x = 0o77 #atribuindo um valor octal\n",
        "print(\"Octal:\", x)\n",
        "print(\"Octal:\", oct(x))\n",
        "\n",
        "x = 0xB0CA #atribuindo um valor hexadecimal\n",
        "print(\"Hexadecimal:\", x)\n",
        "print(\"Hexadecimal:\", hex(x))\n",
        "\n",
        "#Criando uma variável booleana\n",
        "x = bool(1)\n",
        "print(x)\n",
        "\n",
        "x = bool(0)\n",
        "print(x)"
      ],
      "execution_count": null,
      "outputs": []
    },
    {
      "cell_type": "markdown",
      "metadata": {
        "id": "DtYKmYHrxy_T"
      },
      "source": [
        "As variáveis tipo string devem ser começadas e terminadas por aspas simples ou duplas."
      ]
    },
    {
      "cell_type": "code",
      "metadata": {
        "id": "DWA0lKIy551U"
      },
      "source": [
        "x = \"Bom dia\"\n",
        "print(x)\n",
        "x = 'Boa tarde'\n",
        "print(x)"
      ],
      "execution_count": null,
      "outputs": []
    },
    {
      "cell_type": "markdown",
      "metadata": {
        "id": "h6i2UbgJ9yBE"
      },
      "source": [
        "As variáveis em ponto flutuante podem ser: float ou complex."
      ]
    },
    {
      "cell_type": "code",
      "metadata": {
        "id": "zHQKjZKA9yku"
      },
      "source": [
        "x = 0.123456789012345678901234567890123456789012345678901234567890\n",
        "print(\"Número em ponto flutuante:\", x)\n",
        "x = 3+1j\n",
        "print(\"Número complexo:\", x)"
      ],
      "execution_count": null,
      "outputs": []
    },
    {
      "cell_type": "markdown",
      "metadata": {
        "id": "aAmzsNpUJiIf"
      },
      "source": [
        "# Conversão de Tipos\n",
        "\n",
        "Conversão de tipos deve ser feita com as funções:   int, float, bool, str."
      ]
    },
    {
      "cell_type": "code",
      "metadata": {
        "id": "FDBpdc9_Jizz"
      },
      "source": [
        "x = \"2019\"\n",
        "#x = x+1 #ocorrerá um erro em virtude do tipo de dados.\n",
        "print(x)\n",
        "\n",
        "y = int(x)+1\n",
        "print(y)\n",
        "\n",
        "y = float(x)+1\n",
        "print(y)\n",
        "\n",
        "x = 3.1415\n",
        "print(int(x))"
      ],
      "execution_count": null,
      "outputs": []
    },
    {
      "cell_type": "markdown",
      "metadata": {
        "id": "VAheDJhxO4fx"
      },
      "source": [
        "# Operadores Aritméticos\n",
        "Os operadores aritméticos são: +, -, \\*, /, //, %, \\*\\*.\n",
        "\n",
        "\\/\\/ representa a divisão inteira\n",
        "\n",
        "\\% representa o resto da divisão\n",
        "\n",
        "\\*\\* representa a potenciação"
      ]
    },
    {
      "cell_type": "code",
      "metadata": {
        "id": "DyzyJ3FHO5EX"
      },
      "source": [
        "x = 10\n",
        "y = 15\n",
        "print(\"Adição:\", x+y)\n",
        "print(\"Subtração:\", x-y)\n",
        "print(\"Multiplicação:\", x*y)\n",
        "print(\"Divisão:\", x/y)\n",
        "print(\"Divisão inteira:\",x//y)\n",
        "print(\"Resto:\",x%y)\n",
        "print(\"Potenciação:\",x**y)\n"
      ],
      "execution_count": null,
      "outputs": []
    },
    {
      "cell_type": "code",
      "metadata": {
        "id": "2reG8HJGxzxT"
      },
      "source": [
        "x = 0b1010 # 10 em decimal\n",
        "y = 0b111 # 7 em decimal\n",
        "\n",
        "print(x**y) # 10 na potência 7\n",
        "print(bin(x**y))"
      ],
      "execution_count": null,
      "outputs": []
    },
    {
      "cell_type": "markdown",
      "metadata": {
        "id": "ozMxSVMAR3_-"
      },
      "source": [
        "# Operadores Lógicos\n",
        "\n",
        "Os operadores lógicos básicos são and, or e not."
      ]
    },
    {
      "cell_type": "code",
      "metadata": {
        "id": "CWKFDPkYR4gt"
      },
      "source": [
        "x = 0b1010\n",
        "y = 0b0101\n",
        "z = 1\n",
        "\n",
        "print(bin(x and y))\n",
        "print(bin(x or y))\n",
        "print(not(z))\n"
      ],
      "execution_count": null,
      "outputs": []
    },
    {
      "cell_type": "markdown",
      "metadata": {
        "id": "8xpArAkGW6jM"
      },
      "source": [
        "# Entrada de Dados\n",
        "\n",
        "Entrada de dados pode ser feita com a função input."
      ]
    },
    {
      "cell_type": "code",
      "metadata": {
        "id": "xB8-M_a5W6-D",
        "collapsed": true
      },
      "source": [
        "nome = input(\"Informe seu nome:\")\n",
        "idade = input(\"Informe sua idade:\")\n",
        "print(\"A idade do %s é %d anos.\" %(str(nome), int(idade)))\n",
        "print(\"A idade do\", str(nome), \"é\", idade, \"anos.\")"
      ],
      "execution_count": null,
      "outputs": []
    },
    {
      "cell_type": "markdown",
      "metadata": {
        "id": "WF9_2J-yZKvu"
      },
      "source": [
        "# Estruturas de seleção\n",
        "\n",
        "\n",
        "A estrutura de seleção disponíveis no python são (if), (if-else), (if-elif) e (if-elif-else)."
      ]
    },
    {
      "cell_type": "code",
      "metadata": {
        "id": "Y4N-TUKLZLSs"
      },
      "source": [
        "x = input(\"Informe um valor inteiro:\")\n",
        "\n",
        "if (int(x)%2==0):\n",
        "  print(\"O valor informado é par.\")"
      ],
      "execution_count": null,
      "outputs": []
    },
    {
      "cell_type": "code",
      "metadata": {
        "id": "65nsXR9zai1e"
      },
      "source": [
        "x = input(\"Informe um valor inteiro:\")\n",
        "\n",
        "if (int(x)%2==0):\n",
        "  print(\"O valor informado é par.\")\n",
        "else:\n",
        "  print(\"O valor informado é ímpar.\")"
      ],
      "execution_count": null,
      "outputs": []
    },
    {
      "cell_type": "code",
      "metadata": {
        "id": "DtftwZQFcKME"
      },
      "source": [
        "x = input(\"Informe um valor inteiro:\")\n",
        "\n",
        "if (int(x)%2==1):\n",
        "  print(\"O valor informado é ímpar.\")\n",
        "else:\n",
        "  if(int(x)%10==0):\n",
        "    print(\"O valor informado é par e múltiplo de 10.\")\n",
        "  else:\n",
        "    print(\"O valor informado é par e não é múltiplo de 10.\")"
      ],
      "execution_count": null,
      "outputs": []
    },
    {
      "cell_type": "code",
      "metadata": {
        "id": "Tdci2fRZe4rU"
      },
      "source": [
        "op = input(\"Tendo os argumentos 10 e 5, informe uma operação aritmética: +, -, * ou /\")\n",
        "x1 = 10\n",
        "x2 = 5\n",
        "\n",
        "if (op==\"+\"):\n",
        "  print(x1 + x2)\n",
        "elif (op==\"-\"):\n",
        "  print(x1 - x2)\n",
        "elif (op==\"*\"):\n",
        "  print(x1 * x2)\n",
        "elif (op==\"/\"):\n",
        "  print(x1 / x2)\n",
        "else:\n",
        "  print(\"Operação não reconhecida.\")"
      ],
      "execution_count": null,
      "outputs": []
    },
    {
      "cell_type": "markdown",
      "metadata": {
        "id": "VcirM0tJel7D"
      },
      "source": [
        "# Estruturas de Repetição\n",
        "\n",
        "\n",
        "As estruturas básicas de repetição são while e for."
      ]
    },
    {
      "cell_type": "code",
      "metadata": {
        "id": "AvuTYZmnfDHu"
      },
      "source": [
        "i=1\n",
        "while i<=20:\n",
        "  print(i, end=\" \")\n",
        "  i=i+1\n",
        "print(\".\") # Está fora do while. Só executa uma vez"
      ],
      "execution_count": null,
      "outputs": []
    },
    {
      "cell_type": "code",
      "metadata": {
        "id": "KMX5HNKUfPWi"
      },
      "source": [
        "for i in [2,3,4,5,6,7,8,9]:\n",
        "  print(i, end=\" \")\n",
        "print(\".\")"
      ],
      "execution_count": null,
      "outputs": []
    },
    {
      "cell_type": "code",
      "metadata": {
        "id": "LbVMLpQwfpCj"
      },
      "source": [
        "for i in range(1,20): # O for executa até antes de 20\n",
        "  print(i, end=\" \")\n",
        "print(\".\")"
      ],
      "execution_count": null,
      "outputs": []
    },
    {
      "cell_type": "code",
      "metadata": {
        "id": "IlkiM-lDfuHD"
      },
      "source": [
        "for i in range(1,20,2): # O for executa de 2 em 2 passos\n",
        "  print(i, end=\" \")\n",
        "print(\".\")"
      ],
      "execution_count": null,
      "outputs": []
    },
    {
      "cell_type": "code",
      "metadata": {
        "id": "t1cSXXKOytKJ"
      },
      "source": [
        "x = input(\"Informe um valor\")\n",
        "x = int(x)\n",
        "\n",
        "resp = 1\n",
        "for i in range(1,(x+1)):\n",
        "  resp = resp * i\n",
        "\n",
        "print(\"O fatorial de %d é %d\" %(int(x),int(resp)))"
      ],
      "execution_count": null,
      "outputs": []
    },
    {
      "cell_type": "markdown",
      "metadata": {
        "id": "gC-DHMaSTfRW"
      },
      "source": [
        "# Funções\n",
        "\n",
        "Função é um bloco de código, projetado para realizar uma única ação, organizado de forma que possa ser reutilizado.\n",
        "\n",
        "Uma função precisa ter alguns elementos básicos:\n",
        "- Começam pela palavra-chave def, seguida pela nome da função e os parênteses para recebimento de parâmetros.\n",
        "- Todos os parâmetros devem ser colocados entre parênteses.\n",
        "- O primeiro elemento de uma função é a documentação, que é opcional.\n",
        "- Um bloco de código dentro de cada função inicia com dois pontos e deve ser indentado.\n",
        "- O comando return que finaliza a função e devolve o argumento para o ponto onde a função foi chamada. O comando return sem argumentos representa que a função não gerou retorno.\n"
      ]
    },
    {
      "cell_type": "code",
      "metadata": {
        "id": "r3YteC9uT61D"
      },
      "source": [
        "def parouimpar(n):\n",
        "  \"Esta é uma função para verificar se o número é par ou ímpar. A função recebe uma única entrada.\"\n",
        "  if n%2==0:\n",
        "    resultado = \"par\"\n",
        "  else:\n",
        "    resultado = \"ímpar\"\n",
        "  return resultado"
      ],
      "execution_count": null,
      "outputs": []
    },
    {
      "cell_type": "code",
      "metadata": {
        "id": "dP9TNz1RUME-"
      },
      "source": [
        "entrada = input(\"Informe um número:\")\n",
        "resp = parouimpar(int(entrada))\n",
        "print(\"%d é %s.\" %(int(entrada), resp))\n"
      ],
      "execution_count": null,
      "outputs": []
    },
    {
      "cell_type": "code",
      "metadata": {
        "id": "oqkurjS-UanG"
      },
      "source": [
        "def divisivel(x,y):\n",
        "  \"Esta é uma função que recebe duas entradas e diz se elas são divisíveis.\"\n",
        "  if x%y==0:\n",
        "    resultado = \"é divisível\"\n",
        "  else:\n",
        "    resultado = \"não é divisível\"\n",
        "  return resultado\n"
      ],
      "execution_count": null,
      "outputs": []
    },
    {
      "cell_type": "code",
      "metadata": {
        "id": "-IJZtSZ6VPjl"
      },
      "source": [
        "entrada1 = input(\"Informe o primeiro número:\")\n",
        "entrada2 = input(\"Informe o segundo número:\")\n",
        "resp = divisivel(int(entrada1),int(entrada2))\n",
        "print(\"%d %s por %d.\" %(int(entrada1), resp, int(entrada2)))"
      ],
      "execution_count": null,
      "outputs": []
    },
    {
      "cell_type": "markdown",
      "metadata": {
        "id": "b7rqq9dydCMZ"
      },
      "source": [
        "Uma função é recursiva se, no seu corpo, há uma chamada a ela própria."
      ]
    },
    {
      "cell_type": "code",
      "metadata": {
        "id": "wN8tNYLedhdO"
      },
      "source": [
        "def fat(n):\n",
        "  \"Esta é uma função recursiva para cálculo do fatorial.\"\n",
        "  if n==0:\n",
        "    return 1\n",
        "  else:\n",
        "    return n*fat(n-1)"
      ],
      "execution_count": null,
      "outputs": []
    },
    {
      "cell_type": "code",
      "metadata": {
        "id": "UVHsWxXRdpu9"
      },
      "source": [
        "entrada = input(\"Informe o número a ser calculado o fatorial:\")\n",
        "print(\"O fatorial de %d é %d.\" %(int(entrada), fat(int(entrada))))"
      ],
      "execution_count": null,
      "outputs": []
    },
    {
      "cell_type": "markdown",
      "metadata": {
        "id": "eEIA5DCiPQHz"
      },
      "source": [
        "Escopo das variáveis"
      ]
    },
    {
      "cell_type": "code",
      "metadata": {
        "id": "bMdK0xtEPQnb"
      },
      "source": [
        "def passagem_demo(x):\n",
        "    print(\"x=\",x,\" id=\",id(x))\n",
        "    x=14\n",
        "    print(\"x=\",x,\" id=\",id(x))\n",
        "\n",
        "x = 12\n",
        "print(\"x=\",x,\" id=\",id(x))\n",
        "passagem_demo(x)\n",
        "print(\"x=\",x,\" id=\",id(x))\n"
      ],
      "execution_count": null,
      "outputs": []
    },
    {
      "cell_type": "markdown",
      "metadata": {
        "id": "eryW0Q4heqn-"
      },
      "source": [
        "# Estruturas de Dados\n",
        "\n",
        "As estruturas de dados são vetores, matrizes, strings e tuplas.\n",
        "\n",
        "Um vetor é uma estrutura de dados unidimencional contendo um conjunto de elementos do mesmo tipo."
      ]
    },
    {
      "cell_type": "code",
      "metadata": {
        "id": "AOXzxWE5e6Bw"
      },
      "source": [
        "vetor=[4,3,2,1]\n",
        "\n",
        "print(\"O primeiro elemento do vetor é %d.\" %int(vetor[0]))\n",
        "print(\"O quarto elemento do vetor é %d.\" %int(vetor[3]))\n",
        "print(vetor)"
      ],
      "execution_count": null,
      "outputs": []
    },
    {
      "cell_type": "code",
      "metadata": {
        "id": "Nll4cqbUgc-k"
      },
      "source": [
        "vetor=[]\n",
        "for i in range(0,10):\n",
        "  vetor.append(i*3)\n",
        "\n",
        "print(\"O vetor tem %d elementos.\" %len(vetor))\n",
        "\n",
        "for i in range(0,len(vetor)):\n",
        "  print(\"Posição[\",i,\"]: Valor \",vetor[i])\n",
        "\n",
        "print(vetor)\n",
        "\n",
        "vetor.reverse()\n",
        "print(\"Vetor invertido: \")\n",
        "print(vetor)\n",
        "vetor.sort()\n",
        "print(\"Vetor ordenado: \")\n",
        "print(vetor)\n"
      ],
      "execution_count": null,
      "outputs": []
    },
    {
      "cell_type": "markdown",
      "metadata": {
        "id": "JozPcaA8kYLi"
      },
      "source": [
        "Matriz é uma estrutura de dados bidimencional contendo um conjunto de elementos do mesmo tipo."
      ]
    },
    {
      "cell_type": "code",
      "metadata": {
        "id": "cNqICJNYkZNk"
      },
      "source": [
        "matrizstr =  [[\"\",\"X\",\"\"],\n",
        "          [\"\",\"\",\"X\"],\n",
        "          [\"\",\"X\",\"\"],\n",
        "          [\"X\",\"\",\"\"],\n",
        "          [\"\",\"X\",\"\"],\n",
        "          [\"\",\"\",\"X\"],\n",
        "          [\"\",\"X\",\"\"]]\n",
        "print(matrizstr)\n",
        "\n",
        "matrizint =  [[0,\"\",0],\n",
        "          [0,0,1],\n",
        "          [0,1,0],\n",
        "          [1,0,0],\n",
        "          [0,1,0],\n",
        "          [0,0,1],\n",
        "          [0,1,0]]\n",
        "print(matrizint)\n",
        "matrizint[0][1]=0\n",
        "matrizint[0][0]=1\n",
        "print(matrizint)"
      ],
      "execution_count": null,
      "outputs": []
    },
    {
      "cell_type": "code",
      "metadata": {
        "id": "aXRSW4WJpfLQ"
      },
      "source": [
        "vetor1 = [1, 2, 3]\n",
        "vetor2 = [4, 5, 6]\n",
        "vetor3 = [7, 8, 9]\n",
        "vetor2.append(vetor3)\n",
        "vetor1.append(vetor2)\n",
        "print(vetor1)\n",
        "print(vetor1[3])"
      ],
      "execution_count": null,
      "outputs": []
    },
    {
      "cell_type": "markdown",
      "metadata": {
        "id": "EfWOM6_DshAD"
      },
      "source": [
        "Tupla é uma sequência de referências a objetos. Estes objetos podem ser de diferentes tipos.\n",
        "\n"
      ]
    },
    {
      "cell_type": "code",
      "metadata": {
        "id": "aipe_4H8ti_x"
      },
      "source": [
        "disciplina = (\"Ciência de Dados\", 50, 60,30,0)\n",
        "print(disciplina)\n",
        "\n",
        "situacao = (\"Aprovado por Nota\",\"Reprovado por Nota\",\"Reprovado por Frequência\")\n",
        "print(situacao)\n",
        "\n",
        "for sit in situacao:\n",
        "  print(sit)"
      ],
      "execution_count": null,
      "outputs": []
    }
  ]
}