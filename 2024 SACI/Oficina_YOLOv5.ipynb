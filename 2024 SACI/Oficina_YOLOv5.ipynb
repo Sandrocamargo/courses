{
  "cells": [
    {
      "cell_type": "markdown",
      "metadata": {
        "id": "ztRQB-6IL8p0"
      },
      "source": [
        "# Semana Acadêmica Semana Acadêmica do Curso de Informática IFSul (SACI) 2024\n",
        "Minicurso: IA em ação: detecção de objetos com YOLO\n",
        "\n",
        "Ministrante: Prof. Sandro Camargo\n",
        "\n",
        "Para abrir no seu google colab, [clique aqui](https://colab.research.google.com/github/Sandrocamargo/courses/blob/main/2024%20SACI/Oficina_YOLOv5.ipynb)."
      ]
    },
    {
      "cell_type": "markdown",
      "source": [
        "You only look once (YOLO), ou Você Olha Apenas uma Vez, é o estado da arte em sistemas de detecção de objetos em tempo real. Em uma GPU Pascal Titan X são processadas imagens de 30 FPS e tem um mAP de 57.9% na base de testes COCO.\n",
        "\n",
        "O algoritmo YOLO foi treinado com a base Common Objects in Context (COCO) <https://cocodataset.org/>\n",
        "\n",
        "You Only Look Once (YOLO) é um dos mais utilizados modelos de segmentação de imagens e detecção de objetos. O modelo YOLO foi desenvolvido por Joseph Redmon e Ali Farhadi na Universidade de Washington. Lançado em 2015, o YOLO ganhou popularidade rapidamente devido à sua velocidade e acurácia.\n",
        "\n",
        "A última versão é o YOLOv10."
      ],
      "metadata": {
        "id": "rqWiciLejKJP"
      }
    },
    {
      "cell_type": "markdown",
      "metadata": {
        "id": "7mGmQbAO5pQb"
      },
      "source": [
        "# Configuração de ambiente\n",
        "\n",
        "O primeiro passo é cloar o [repositório](https://github.com/ultralytics/yolov5) GitHub, instalar as [dependências](https://github.com/ultralytics/yolov5/blob/master/requirements.txt) e verificar o PyTorch e a GPU."
      ]
    },
    {
      "cell_type": "code",
      "execution_count": null,
      "metadata": {
        "id": "wbvMlHd_QwMG"
      },
      "outputs": [],
      "source": [
        "!git clone https://github.com/ultralytics/yolov5  # clone\n",
        "%cd yolov5\n",
        "%pip install -qr requirements.txt  # install\n",
        "\n",
        "import torch\n",
        "import utils\n",
        "display = utils.notebook_init()  # checks"
      ]
    },
    {
      "cell_type": "code",
      "execution_count": null,
      "metadata": {
        "id": "j-MS21ICP_Xu"
      },
      "outputs": [],
      "source": [
        "from google.colab import drive\n",
        "drive.mount('/content/drive',force_remount=True)"
      ]
    },
    {
      "cell_type": "markdown",
      "metadata": {
        "id": "4JnkELT0cIJg"
      },
      "source": [
        "# 1. Detectar objetos\n",
        "\n",
        "`detect.py` executa a inferência YOLOv5 inferenceem várias fontes de imagens ou de vídeos, baixa os modelos automaticamente do site [latest YOLOv5 release](https://github.com/ultralytics/yolov5/releases) e armazena os resultados na pasta `runs/detect` do seu ambiente do google colab. Exemplos de fontes de inferência são:\n",
        "\n",
        "```shell\n",
        "python detect.py --source 0  # webcam\n",
        "                          img.jpg  # image\n",
        "                          vid.mp4  # video\n",
        "                          screen  # screenshot\n",
        "                          path/  # directory\n",
        "                         'path/*.jpg'  # glob\n",
        "                         'https://youtu.be/Zgi9g1ksQHc'  # YouTube\n",
        "                         'rtsp://example.com/media.mp4'  # RTSP, RTMP, HTTP stream\n",
        "```"
      ]
    },
    {
      "cell_type": "code",
      "source": [
        "# para executar sobre uma imagem que está no seu ambiente colab, informe o caminho do arquivo em source\n",
        "!python detect.py --conf 0.3 --source 'data/images/bus.jpg' --data data/coco.yaml"
      ],
      "metadata": {
        "id": "WImT8xxqU4AU"
      },
      "execution_count": null,
      "outputs": []
    },
    {
      "cell_type": "code",
      "source": [
        "# para executar sobre várias imagens que estão no seu ambiente colab, informe o caminho da pasta em source\n",
        "!python detect.py --conf 0.3 --source 'data/images/' --data data/coco.yaml"
      ],
      "metadata": {
        "id": "WbejBBo0VWGh"
      },
      "execution_count": null,
      "outputs": []
    },
    {
      "cell_type": "code",
      "source": [
        "# Para executar sobre alguma imagem que está disponível na internet, informe o link direto\n",
        "!python detect.py --conf 0.3 --source 'https://revistanews.com.br/wp-content/uploads/2022/09/Desfile-farroupilha-NH.jpg' --data data/coco.yaml"
      ],
      "metadata": {
        "id": "nM_UjjqHRuCp"
      },
      "execution_count": null,
      "outputs": []
    },
    {
      "cell_type": "code",
      "source": [
        "!python detect.py --conf 0.3 --source 'https://estado.rs.gov.br/upload/recortes/201707/19202713_1174768_GD.jpg' --data data/coco.yaml"
      ],
      "metadata": {
        "id": "p1bTJXuTTdDi"
      },
      "execution_count": null,
      "outputs": []
    },
    {
      "cell_type": "code",
      "source": [
        "!python detect.py --conf 0.3 --source screen --data data/coco.yaml"
      ],
      "metadata": {
        "id": "Hz0dD50HT3IY"
      },
      "execution_count": null,
      "outputs": []
    },
    {
      "cell_type": "code",
      "source": [
        "# Para executar sobre um video do youtube, informe o link direto\n",
        "!python detect.py --conf 0.3 --source 'https://youtu.be/aeMhNpb6Dlg' --data data/coco.yaml"
      ],
      "metadata": {
        "id": "lZx384JyLSYf"
      },
      "execution_count": null,
      "outputs": []
    },
    {
      "cell_type": "code",
      "execution_count": null,
      "metadata": {
        "id": "zR9ZbuQCH7FX"
      },
      "outputs": [],
      "source": [
        "!python detect.py --conf 0.3 --source 'https://youtu.be/z0AfpPI_ecI' --data data/coco.yaml"
      ]
    },
    {
      "cell_type": "markdown",
      "metadata": {
        "id": "IEijrePND_2I"
      },
      "source": [
        "# Appendix\n",
        "\n",
        "Additional content below."
      ]
    },
    {
      "cell_type": "code",
      "execution_count": null,
      "metadata": {
        "id": "GMusP4OAxFu6"
      },
      "outputs": [],
      "source": [
        "# Inferência do modelo YOLOv5 PyTorch HUB (DetectionModels only)\n",
        "import torch\n",
        "\n",
        "model = torch.hub.load('ultralytics/yolov5', 'yolov5s', force_reload=True)  # yolov5n - yolov5x6 ou alguma adaptação\n",
        "im = 'https://ultralytics.com/images/zidane.jpg'  # arquivo, pasta, PIL.Image, OpenCV, nparray, lista\n",
        "results = model(im)  # aplica o modelo\n",
        "results.print()  # ou .show(), .save(), .crop(), .pandas(), etc.\n",
        "results.save('zidane.jpg')\n",
        "results.show()"
      ]
    },
    {
      "cell_type": "markdown",
      "source": [
        "# Treinando o YOLO para novos problemas\n",
        "\n",
        "Processo se inicia pela rotulagem, passa pelo retreinamento e finalmente chega à fase de uso.\n",
        "\n",
        "A rotulagem é feita através de ferramentas como o LabelImg."
      ],
      "metadata": {
        "id": "OqTXEOq_nBuZ"
      }
    }
  ],
  "metadata": {
    "colab": {
      "provenance": []
    },
    "kernelspec": {
      "display_name": "Python 3",
      "name": "python3"
    }
  },
  "nbformat": 4,
  "nbformat_minor": 0
}